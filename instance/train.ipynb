{
 "cells": [
  {
   "cell_type": "code",
   "execution_count": 28,
   "metadata": {},
   "outputs": [],
   "source": [
    "import torch\n",
    "import torch.optim as optim\n",
    "from tqdm import tqdm\n",
    "from torch.utils.data import DataLoader\n",
    "import torchvision\n",
    "import torchvision.transforms as T\n",
    "import torch.nn.functional as F\n",
    "import torch.nn as nn"
   ]
  },
  {
   "cell_type": "code",
   "execution_count": 29,
   "metadata": {},
   "outputs": [],
   "source": [
    "epochs = 10\n",
    "bs = 256\n",
    "\n",
    "from typing import Tuple\n",
    "from torch import Tensor\n",
    "from torch.utils.data import Dataset\n",
    "\n",
    "class TensorDataset(Dataset[Tuple[Tensor, ...]]):\n",
    "    \"\"\"Dataset wrapping tensors.\n",
    "    Each sample will be retrieved by indexing tensors along the first dimension.\n",
    "    Args:\n",
    "        *tensors (Tensor): tensors that have the same size of the first dimension.\n",
    "    \"\"\"\n",
    "    tensors: Tuple[Tensor, ...]\n",
    "\n",
    "    def __init__(self, *tensors: Tensor) -> None:\n",
    "        assert all(tensors[0].size(0) == tensor.size(0) for tensor in tensors), \"Size mismatch between tensors\"\n",
    "        self.tensors = tensors\n",
    "\n",
    "    def __getitem__(self, index):\n",
    "        return (*tuple(tensor[index] for tensor in self.tensors), index)\n",
    "\n",
    "    def __len__(self):\n",
    "        return self.tensors[0].size(0)"
   ]
  },
  {
   "cell_type": "code",
   "execution_count": 34,
   "metadata": {},
   "outputs": [
    {
     "name": "stdout",
     "output_type": "stream",
     "text": [
      "Files already downloaded and verified\n",
      "Files already downloaded and verified\n"
     ]
    }
   ],
   "source": [
    "mtrain = torchvision.datasets.MNIST(\"../data/\", train=True, download=True, transform=T.Compose([T.ToTensor(),T.Normalize((0.1307,), (0.3081,)), T.Lambda(lambda x: torch.flatten(x))]))\n",
    "mtest = torchvision.datasets.MNIST(\"../data/\", train=False, download=True, transform=T.Compose([T.ToTensor(), T.Normalize((0.1307,), (0.3081,)), T.Lambda(lambda x: torch.flatten(x))]))\n",
    "mtrain_loader = DataLoader(mtrain, batch_size=bs, shuffle=True)\n",
    "mtest_loader = DataLoader(mtest, batch_size=bs, shuffle=True)\n",
    "\n",
    "ktrain = torchvision.datasets.KMNIST(\"../data/\", train=True, download=True, transform=T.Compose([T.ToTensor(),T.Normalize((0.5,), (0.5,)), T.Lambda(lambda x: torch.flatten(x))]))\n",
    "ktest = torchvision.datasets.KMNIST(\"../data/\", train=False, download=True, transform=T.Compose([T.ToTensor(), T.Normalize((0.5,), (0.5,)), T.Lambda(lambda x: torch.flatten(x))]))\n",
    "ktrain_loader = DataLoader(ktrain, batch_size=bs, shuffle=True)\n",
    "ktest_loader = DataLoader(ktest, batch_size=bs, shuffle=True)\n",
    "\n",
    "ftrain = torchvision.datasets.FashionMNIST(\"../data/\", train=True, download=True, transform=T.Compose([T.ToTensor(),T.Normalize((0.1307,), (0.3081,)), T.Lambda(lambda x: torch.flatten(x))]))\n",
    "ftest = torchvision.datasets.FashionMNIST(\"../data/\", train=False, download=True, transform=T.Compose([T.ToTensor(), T.Normalize((0.1307,), (0.3081,)), T.Lambda(lambda x: torch.flatten(x))]))\n",
    "ftrain_loader = DataLoader(ftrain, batch_size=bs, shuffle=True)\n",
    "ftest_loader = DataLoader(ftest, batch_size=bs, shuffle=True)\n",
    "\n",
    "def accuracy(model, loader):\n",
    "    device = next(model.parameters()).device\n",
    "    correct = 0\n",
    "    total = 0\n",
    "    for inputs, _, targets,_ in loader:\n",
    "        outputs = model(inputs.to(device).float())\n",
    "        correct += torch.sum(torch.argmax(outputs, dim=1) == targets.to(device))\n",
    "        total += inputs.shape[0]\n",
    "    return correct / total * 100"
   ]
  },
  {
   "cell_type": "code",
   "execution_count": 35,
   "metadata": {},
   "outputs": [],
   "source": [
    "class Net(nn.Module):\n",
    "    def __init__(self):\n",
    "        super().__init__()\n",
    "        self.fc1 = nn.Linear(784, 100)\n",
    "        self.fc2 = nn.Linear(100, 10)\n",
    "\n",
    "    def forward(self, x):\n",
    "        x = F.relu(self.fc1(x))\n",
    "        x = self.fc2(x)\n",
    "        return x\n",
    "\n",
    "net = Net()\n",
    "criterion = nn.CrossEntropyLoss()\n",
    "optimizer = optim.Adam(net.parameters())"
   ]
  },
  {
   "cell_type": "code",
   "execution_count": 36,
   "metadata": {},
   "outputs": [
    {
     "name": "stderr",
     "output_type": "stream",
     "text": [
      "100%|██████████| 10/10 [00:04<00:00,  2.29it/s]\n"
     ]
    }
   ],
   "source": [
    "for epoch in tqdm(range(epochs)):\n",
    "    for inputs, _, targets, _ in mtrain_loader:\n",
    "        optimizer.zero_grad()\n",
    "        outputs = net(inputs)\n",
    "        loss = criterion(outputs, targets)\n",
    "        loss.backward()\n",
    "        optimizer.step()"
   ]
  }
 ],
 "metadata": {
  "kernelspec": {
   "display_name": "Python 3",
   "language": "python",
   "name": "python3"
  },
  "language_info": {
   "codemirror_mode": {
    "name": "ipython",
    "version": 3
   },
   "file_extension": ".py",
   "mimetype": "text/x-python",
   "name": "python",
   "nbconvert_exporter": "python",
   "pygments_lexer": "ipython3",
   "version": "3.9.6"
  },
  "orig_nbformat": 4
 },
 "nbformat": 4,
 "nbformat_minor": 2
}
